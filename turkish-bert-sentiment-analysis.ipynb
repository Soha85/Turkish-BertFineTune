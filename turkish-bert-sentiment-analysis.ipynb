{
 "cells": [
  {
   "cell_type": "markdown",
   "id": "valued-brooklyn",
   "metadata": {
    "papermill": {
     "duration": 0.02893,
     "end_time": "2021-04-08T23:57:45.032574",
     "exception": false,
     "start_time": "2021-04-08T23:57:45.003644",
     "status": "completed"
    },
    "tags": []
   },
   "source": [
    "Transfer learning is when a model developed for one task is reused to work on a second task. \n",
    "Fine tuning is one approach to transfer learning.\n",
    "\n",
    "BERT (Bidirectional Encoder Representations from Transformers) is a big neural network architecture, with a huge number of parameters, that can range from 100 million to over 300 million. So, training a BERT model from scratch on a small dataset would result in overfitting.\n",
    "\n",
    "So, it is better to use a pre-trained BERT model that was trained on a huge dataset, as a starting point. We can then further train the model on our relatively smaller dataset and this process is known as model fine-tuning.\n",
    "“BERT stands for Bidirectional Encoder Representations from Transformers. It is designed to pre-train deep bidirectional representations from unlabeled text by jointly conditioning on both left and right context. As a result, the pre-trained BERT model can be fine-tuned with just one additional output layer to create state-of-the-art models for a wide range of NLP tasks.”\n",
    "Different Fine-Tuning Techniques\n",
    "Train the entire architecture – We can further train the entire pre-trained model on our dataset and feed the output to a softmax layer. In this case, the error is back-propagated through the entire architecture and the pre-trained weights of the model are updated based on the new dataset.\n",
    "Train some layers while freezing others – Another way to use a pre-trained model is to train it partially. What we can do is keep the weights of initial layers of the model frozen while we retrain only the higher layers. We can try and test as to how many layers to be frozen and how many to be trained.\n",
    "Freeze the entire architecture – We can even freeze all the layers of the model and attach a few neural network layers of our own and train this new model. Note that the weights of only the attached layers will be updated during model training.\n"
   ]
  },
  {
   "cell_type": "markdown",
   "id": "collectible-drive",
   "metadata": {
    "papermill": {
     "duration": 0.022894,
     "end_time": "2021-04-08T23:57:45.080853",
     "exception": false,
     "start_time": "2021-04-08T23:57:45.057959",
     "status": "completed"
    },
    "tags": []
   },
   "source": [
    "# Install Needed libraries"
   ]
  },
  {
   "cell_type": "code",
   "execution_count": 1,
   "id": "municipal-waterproof",
   "metadata": {
    "execution": {
     "iopub.execute_input": "2021-04-08T23:57:45.131344Z",
     "iopub.status.busy": "2021-04-08T23:57:45.130086Z",
     "iopub.status.idle": "2021-04-08T23:58:32.812230Z",
     "shell.execute_reply": "2021-04-08T23:58:32.812718Z"
    },
    "papermill": {
     "duration": 47.709217,
     "end_time": "2021-04-08T23:58:32.813116",
     "exception": false,
     "start_time": "2021-04-08T23:57:45.103899",
     "status": "completed"
    },
    "tags": []
   },
   "outputs": [
    {
     "name": "stdout",
     "output_type": "stream",
     "text": [
      "Requirement already satisfied: tensorflow_hub in /opt/conda/lib/python3.7/site-packages (0.11.0)\r\n",
      "Requirement already satisfied: numpy>=1.12.0 in /opt/conda/lib/python3.7/site-packages (from tensorflow_hub) (1.19.5)\r\n",
      "Requirement already satisfied: protobuf>=3.8.0 in /opt/conda/lib/python3.7/site-packages (from tensorflow_hub) (3.15.6)\r\n",
      "Requirement already satisfied: six>=1.9 in /opt/conda/lib/python3.7/site-packages (from protobuf>=3.8.0->tensorflow_hub) (1.15.0)\r\n",
      "Collecting bert-for-tf2\r\n",
      "  Downloading bert-for-tf2-0.14.9.tar.gz (41 kB)\r\n",
      "\u001b[K     |████████████████████████████████| 41 kB 84 kB/s \r\n",
      "\u001b[?25hCollecting py-params>=0.9.6\r\n",
      "  Downloading py-params-0.10.2.tar.gz (7.4 kB)\r\n",
      "Collecting params-flow>=0.8.0\r\n",
      "  Downloading params-flow-0.8.2.tar.gz (22 kB)\r\n",
      "Requirement already satisfied: numpy in /opt/conda/lib/python3.7/site-packages (from params-flow>=0.8.0->bert-for-tf2) (1.19.5)\r\n",
      "Requirement already satisfied: tqdm in /opt/conda/lib/python3.7/site-packages (from params-flow>=0.8.0->bert-for-tf2) (4.56.2)\r\n",
      "Building wheels for collected packages: bert-for-tf2, params-flow, py-params\r\n",
      "  Building wheel for bert-for-tf2 (setup.py) ... \u001b[?25l-\b \b\\\b \bdone\r\n",
      "\u001b[?25h  Created wheel for bert-for-tf2: filename=bert_for_tf2-0.14.9-py3-none-any.whl size=30536 sha256=2348becd51da813efa7c8d8c929a337dd9cc17c8fd5980ad237d0ba21c0029d9\r\n",
      "  Stored in directory: /root/.cache/pip/wheels/47/b6/e5/8c76ec779f54bc5c2f1b57d2200bb9c77616da83873e8acb53\r\n",
      "  Building wheel for params-flow (setup.py) ... \u001b[?25l-\b \b\\\b \bdone\r\n",
      "\u001b[?25h  Created wheel for params-flow: filename=params_flow-0.8.2-py3-none-any.whl size=19471 sha256=272e4f10d9dcf763ef76ab23221a12d821f80624e19b3888cb1f91a3d0d90ee3\r\n",
      "  Stored in directory: /root/.cache/pip/wheels/0e/fc/d2/a44fff33af0f233d7def6e7de413006d57c10e10ad736fe8f5\r\n",
      "  Building wheel for py-params (setup.py) ... \u001b[?25l-\b \b\\\b \bdone\r\n",
      "\u001b[?25h  Created wheel for py-params: filename=py_params-0.10.2-py3-none-any.whl size=7910 sha256=4df4efe5083eaba583c6877bf4123f5dee6c4f703fee3493653b19f2161dfb4e\r\n",
      "  Stored in directory: /root/.cache/pip/wheels/e1/11/67/33cc51bbee127cb8fb2ba549cd29109b2f22da43ddf9969716\r\n",
      "Successfully built bert-for-tf2 params-flow py-params\r\n",
      "Installing collected packages: py-params, params-flow, bert-for-tf2\r\n",
      "Successfully installed bert-for-tf2-0.14.9 params-flow-0.8.2 py-params-0.10.2\r\n",
      "Requirement already satisfied: tensorflow in /opt/conda/lib/python3.7/site-packages (2.4.1)\r\n",
      "Requirement already satisfied: flatbuffers~=1.12.0 in /opt/conda/lib/python3.7/site-packages (from tensorflow) (1.12)\r\n",
      "Requirement already satisfied: gast==0.3.3 in /opt/conda/lib/python3.7/site-packages (from tensorflow) (0.3.3)\r\n",
      "Requirement already satisfied: six~=1.15.0 in /opt/conda/lib/python3.7/site-packages (from tensorflow) (1.15.0)\r\n",
      "Requirement already satisfied: astunparse~=1.6.3 in /opt/conda/lib/python3.7/site-packages (from tensorflow) (1.6.3)\r\n",
      "Requirement already satisfied: absl-py~=0.10 in /opt/conda/lib/python3.7/site-packages (from tensorflow) (0.10.0)\r\n",
      "Requirement already satisfied: keras-preprocessing~=1.1.2 in /opt/conda/lib/python3.7/site-packages (from tensorflow) (1.1.2)\r\n",
      "Requirement already satisfied: h5py~=2.10.0 in /opt/conda/lib/python3.7/site-packages (from tensorflow) (2.10.0)\r\n",
      "Requirement already satisfied: termcolor~=1.1.0 in /opt/conda/lib/python3.7/site-packages (from tensorflow) (1.1.0)\r\n",
      "Requirement already satisfied: tensorflow-estimator<2.5.0,>=2.4.0 in /opt/conda/lib/python3.7/site-packages (from tensorflow) (2.4.0)\r\n",
      "Requirement already satisfied: grpcio~=1.32.0 in /opt/conda/lib/python3.7/site-packages (from tensorflow) (1.32.0)\r\n",
      "Requirement already satisfied: typing-extensions~=3.7.4 in /opt/conda/lib/python3.7/site-packages (from tensorflow) (3.7.4.3)\r\n",
      "Requirement already satisfied: tensorboard~=2.4 in /opt/conda/lib/python3.7/site-packages (from tensorflow) (2.4.1)\r\n",
      "Requirement already satisfied: protobuf>=3.9.2 in /opt/conda/lib/python3.7/site-packages (from tensorflow) (3.15.6)\r\n",
      "Requirement already satisfied: numpy~=1.19.2 in /opt/conda/lib/python3.7/site-packages (from tensorflow) (1.19.5)\r\n",
      "Requirement already satisfied: opt-einsum~=3.3.0 in /opt/conda/lib/python3.7/site-packages (from tensorflow) (3.3.0)\r\n",
      "Requirement already satisfied: google-pasta~=0.2 in /opt/conda/lib/python3.7/site-packages (from tensorflow) (0.2.0)\r\n",
      "Requirement already satisfied: wheel~=0.35 in /opt/conda/lib/python3.7/site-packages (from tensorflow) (0.36.2)\r\n",
      "Requirement already satisfied: wrapt~=1.12.1 in /opt/conda/lib/python3.7/site-packages (from tensorflow) (1.12.1)\r\n",
      "Requirement already satisfied: setuptools>=41.0.0 in /opt/conda/lib/python3.7/site-packages (from tensorboard~=2.4->tensorflow) (49.6.0.post20210108)\r\n",
      "Requirement already satisfied: tensorboard-plugin-wit>=1.6.0 in /opt/conda/lib/python3.7/site-packages (from tensorboard~=2.4->tensorflow) (1.8.0)\r\n",
      "Requirement already satisfied: google-auth-oauthlib<0.5,>=0.4.1 in /opt/conda/lib/python3.7/site-packages (from tensorboard~=2.4->tensorflow) (0.4.2)\r\n",
      "Requirement already satisfied: requests<3,>=2.21.0 in /opt/conda/lib/python3.7/site-packages (from tensorboard~=2.4->tensorflow) (2.25.1)\r\n",
      "Requirement already satisfied: werkzeug>=0.11.15 in /opt/conda/lib/python3.7/site-packages (from tensorboard~=2.4->tensorflow) (1.0.1)\r\n",
      "Requirement already satisfied: google-auth<2,>=1.6.3 in /opt/conda/lib/python3.7/site-packages (from tensorboard~=2.4->tensorflow) (1.24.0)\r\n",
      "Requirement already satisfied: markdown>=2.6.8 in /opt/conda/lib/python3.7/site-packages (from tensorboard~=2.4->tensorflow) (3.3.3)\r\n",
      "Requirement already satisfied: rsa<5,>=3.1.4 in /opt/conda/lib/python3.7/site-packages (from google-auth<2,>=1.6.3->tensorboard~=2.4->tensorflow) (4.7.1)\r\n",
      "Requirement already satisfied: cachetools<5.0,>=2.0.0 in /opt/conda/lib/python3.7/site-packages (from google-auth<2,>=1.6.3->tensorboard~=2.4->tensorflow) (4.2.1)\r\n",
      "Requirement already satisfied: pyasn1-modules>=0.2.1 in /opt/conda/lib/python3.7/site-packages (from google-auth<2,>=1.6.3->tensorboard~=2.4->tensorflow) (0.2.7)\r\n",
      "Requirement already satisfied: requests-oauthlib>=0.7.0 in /opt/conda/lib/python3.7/site-packages (from google-auth-oauthlib<0.5,>=0.4.1->tensorboard~=2.4->tensorflow) (1.3.0)\r\n",
      "Requirement already satisfied: importlib-metadata in /opt/conda/lib/python3.7/site-packages (from markdown>=2.6.8->tensorboard~=2.4->tensorflow) (3.4.0)\r\n",
      "Requirement already satisfied: pyasn1<0.5.0,>=0.4.6 in /opt/conda/lib/python3.7/site-packages (from pyasn1-modules>=0.2.1->google-auth<2,>=1.6.3->tensorboard~=2.4->tensorflow) (0.4.8)\r\n",
      "Requirement already satisfied: idna<3,>=2.5 in /opt/conda/lib/python3.7/site-packages (from requests<3,>=2.21.0->tensorboard~=2.4->tensorflow) (2.10)\r\n",
      "Requirement already satisfied: certifi>=2017.4.17 in /opt/conda/lib/python3.7/site-packages (from requests<3,>=2.21.0->tensorboard~=2.4->tensorflow) (2020.12.5)\r\n",
      "Requirement already satisfied: urllib3<1.27,>=1.21.1 in /opt/conda/lib/python3.7/site-packages (from requests<3,>=2.21.0->tensorboard~=2.4->tensorflow) (1.26.3)\r\n",
      "Requirement already satisfied: chardet<5,>=3.0.2 in /opt/conda/lib/python3.7/site-packages (from requests<3,>=2.21.0->tensorboard~=2.4->tensorflow) (3.0.4)\r\n",
      "Requirement already satisfied: oauthlib>=3.0.0 in /opt/conda/lib/python3.7/site-packages (from requests-oauthlib>=0.7.0->google-auth-oauthlib<0.5,>=0.4.1->tensorboard~=2.4->tensorflow) (3.0.1)\r\n",
      "Requirement already satisfied: zipp>=0.5 in /opt/conda/lib/python3.7/site-packages (from importlib-metadata->markdown>=2.6.8->tensorboard~=2.4->tensorflow) (3.4.0)\r\n",
      "Requirement already satisfied: sentencepiece in /opt/conda/lib/python3.7/site-packages (0.1.95)\r\n",
      "Requirement already satisfied: transformers in /opt/conda/lib/python3.7/site-packages (4.3.3)\r\n",
      "Requirement already satisfied: filelock in /opt/conda/lib/python3.7/site-packages (from transformers) (3.0.12)\r\n",
      "Requirement already satisfied: regex!=2019.12.17 in /opt/conda/lib/python3.7/site-packages (from transformers) (2020.11.13)\r\n",
      "Requirement already satisfied: tqdm>=4.27 in /opt/conda/lib/python3.7/site-packages (from transformers) (4.56.2)\r\n",
      "Requirement already satisfied: sacremoses in /opt/conda/lib/python3.7/site-packages (from transformers) (0.0.43)\r\n",
      "Requirement already satisfied: importlib-metadata in /opt/conda/lib/python3.7/site-packages (from transformers) (3.4.0)\r\n",
      "Requirement already satisfied: tokenizers<0.11,>=0.10.1 in /opt/conda/lib/python3.7/site-packages (from transformers) (0.10.1)\r\n",
      "Requirement already satisfied: packaging in /opt/conda/lib/python3.7/site-packages (from transformers) (20.9)\r\n",
      "Requirement already satisfied: numpy>=1.17 in /opt/conda/lib/python3.7/site-packages (from transformers) (1.19.5)\r\n",
      "Requirement already satisfied: requests in /opt/conda/lib/python3.7/site-packages (from transformers) (2.25.1)\r\n",
      "Requirement already satisfied: typing-extensions>=3.6.4 in /opt/conda/lib/python3.7/site-packages (from importlib-metadata->transformers) (3.7.4.3)\r\n",
      "Requirement already satisfied: zipp>=0.5 in /opt/conda/lib/python3.7/site-packages (from importlib-metadata->transformers) (3.4.0)\r\n",
      "Requirement already satisfied: pyparsing>=2.0.2 in /opt/conda/lib/python3.7/site-packages (from packaging->transformers) (2.4.7)\r\n",
      "Requirement already satisfied: idna<3,>=2.5 in /opt/conda/lib/python3.7/site-packages (from requests->transformers) (2.10)\r\n",
      "Requirement already satisfied: chardet<5,>=3.0.2 in /opt/conda/lib/python3.7/site-packages (from requests->transformers) (3.0.4)\r\n",
      "Requirement already satisfied: certifi>=2017.4.17 in /opt/conda/lib/python3.7/site-packages (from requests->transformers) (2020.12.5)\r\n",
      "Requirement already satisfied: urllib3<1.27,>=1.21.1 in /opt/conda/lib/python3.7/site-packages (from requests->transformers) (1.26.3)\r\n",
      "Requirement already satisfied: click in /opt/conda/lib/python3.7/site-packages (from sacremoses->transformers) (7.1.2)\r\n",
      "Requirement already satisfied: joblib in /opt/conda/lib/python3.7/site-packages (from sacremoses->transformers) (1.0.1)\r\n",
      "Requirement already satisfied: six in /opt/conda/lib/python3.7/site-packages (from sacremoses->transformers) (1.15.0)\r\n",
      "Requirement already satisfied: torchvision in /opt/conda/lib/python3.7/site-packages (0.8.1)\r\n",
      "Requirement already satisfied: numpy in /opt/conda/lib/python3.7/site-packages (from torchvision) (1.19.5)\r\n",
      "Requirement already satisfied: torch in /opt/conda/lib/python3.7/site-packages (from torchvision) (1.7.0)\r\n",
      "Requirement already satisfied: pillow>=4.1.1 in /opt/conda/lib/python3.7/site-packages (from torchvision) (7.2.0)\r\n",
      "Requirement already satisfied: future in /opt/conda/lib/python3.7/site-packages (from torch->torchvision) (0.18.2)\r\n",
      "Requirement already satisfied: typing_extensions in /opt/conda/lib/python3.7/site-packages (from torch->torchvision) (3.7.4.3)\r\n",
      "Requirement already satisfied: dataclasses in /opt/conda/lib/python3.7/site-packages (from torch->torchvision) (0.6)\r\n"
     ]
    }
   ],
   "source": [
    "!pip install tensorflow_hub\n",
    "!pip install bert-for-tf2\n",
    "!pip install tensorflow\n",
    "!pip install sentencepiece\n",
    "!pip install transformers\n",
    "!pip install torchvision "
   ]
  },
  {
   "cell_type": "markdown",
   "id": "intelligent-episode",
   "metadata": {
    "papermill": {
     "duration": 0.032358,
     "end_time": "2021-04-08T23:58:32.878509",
     "exception": false,
     "start_time": "2021-04-08T23:58:32.846151",
     "status": "completed"
    },
    "tags": []
   },
   "source": [
    "# Import Needed Libraries"
   ]
  },
  {
   "cell_type": "code",
   "execution_count": 2,
   "id": "prostate-yeast",
   "metadata": {
    "execution": {
     "iopub.execute_input": "2021-04-08T23:58:32.958276Z",
     "iopub.status.busy": "2021-04-08T23:58:32.957483Z",
     "iopub.status.idle": "2021-04-08T23:58:42.250952Z",
     "shell.execute_reply": "2021-04-08T23:58:42.250356Z"
    },
    "papermill": {
     "duration": 9.339691,
     "end_time": "2021-04-08T23:58:42.251105",
     "exception": false,
     "start_time": "2021-04-08T23:58:32.911414",
     "status": "completed"
    },
    "tags": []
   },
   "outputs": [
    {
     "name": "stdout",
     "output_type": "stream",
     "text": [
      "/kaggle/input/turkish-sentiment-analysis-data-beyazperdecom/train.csv\n",
      "/kaggle/input/turkish-sentiment-analysis-data-beyazperdecom/test.csv\n"
     ]
    }
   ],
   "source": [
    "try:\n",
    "    %tensorflow_version 2.x\n",
    "except Exception:\n",
    "    pass\n",
    "import tensorflow as tf\n",
    "import torch\n",
    "import transformers as ppb # pytorch transformers\n",
    "from sklearn.linear_model import LogisticRegression\n",
    "import tensorflow_hub as hub\n",
    "import bert\n",
    "from tensorflow import keras\n",
    "from tensorflow.keras import layers\n",
    "from tokenizers import BertWordPieceTokenizer\n",
    "from transformers import BertTokenizer, TFBertModel, BertConfig\n",
    "from transformers import DistilBertModel,DistilBertTokenizer\n",
    "import numpy as np # linear algebra\n",
    "import pandas as pd # data processing, CSV file I/O (e.g. pd.read_csv)\n",
    "from tensorflow.keras.layers import Dense, Input\n",
    "from sklearn.metrics import classification_report\n",
    "from tensorflow.keras import backend as K\n",
    "from matplotlib import pyplot\n",
    "from sklearn.model_selection import train_test_split\n",
    "import os\n",
    "import warnings\n",
    "warnings.filterwarnings(\"ignore\")\n",
    "for dirname, _, filenames in os.walk('/kaggle/input'):\n",
    "    for filename in filenames:\n",
    "        print(os.path.join(dirname, filename))"
   ]
  },
  {
   "cell_type": "markdown",
   "id": "binary-sphere",
   "metadata": {
    "papermill": {
     "duration": 0.034143,
     "end_time": "2021-04-08T23:58:42.318698",
     "exception": false,
     "start_time": "2021-04-08T23:58:42.284555",
     "status": "completed"
    },
    "tags": []
   },
   "source": [
    "# load Bert tokenizer"
   ]
  },
  {
   "cell_type": "code",
   "execution_count": 3,
   "id": "declared-table",
   "metadata": {
    "execution": {
     "iopub.execute_input": "2021-04-08T23:58:42.390875Z",
     "iopub.status.busy": "2021-04-08T23:58:42.390171Z",
     "iopub.status.idle": "2021-04-08T23:59:02.143220Z",
     "shell.execute_reply": "2021-04-08T23:59:02.143697Z"
    },
    "papermill": {
     "duration": 19.791629,
     "end_time": "2021-04-08T23:59:02.143897",
     "exception": false,
     "start_time": "2021-04-08T23:58:42.352268",
     "status": "completed"
    },
    "tags": []
   },
   "outputs": [
    {
     "data": {
      "application/vnd.jupyter.widget-view+json": {
       "model_id": "4d4ed6e81ef64d72a73732bcc04ec507",
       "version_major": 2,
       "version_minor": 0
      },
      "text/plain": [
       "Downloading:   0%|          | 0.00/410 [00:00<?, ?B/s]"
      ]
     },
     "metadata": {},
     "output_type": "display_data"
    },
    {
     "data": {
      "application/vnd.jupyter.widget-view+json": {
       "model_id": "f5e0102a08d74a64a0dfb7cf2f38f5d7",
       "version_major": 2,
       "version_minor": 0
      },
      "text/plain": [
       "Downloading:   0%|          | 0.00/251k [00:00<?, ?B/s]"
      ]
     },
     "metadata": {},
     "output_type": "display_data"
    },
    {
     "data": {
      "application/vnd.jupyter.widget-view+json": {
       "model_id": "347cddee2b6941638778616f3b8c1f45",
       "version_major": 2,
       "version_minor": 0
      },
      "text/plain": [
       "Downloading:   0%|          | 0.00/60.0 [00:00<?, ?B/s]"
      ]
     },
     "metadata": {},
     "output_type": "display_data"
    },
    {
     "data": {
      "application/vnd.jupyter.widget-view+json": {
       "model_id": "cdedb5ff9fed4175a8e8eb00e9f2f9e4",
       "version_major": 2,
       "version_minor": 0
      },
      "text/plain": [
       "Downloading:   0%|          | 0.00/273M [00:00<?, ?B/s]"
      ]
     },
     "metadata": {},
     "output_type": "display_data"
    }
   ],
   "source": [
    "#model_class, tokenizer_class, pretrained_weights = (ppb.DistilBertModel, ppb.DistilBertTokenizer, 'distilbert-base-uncased')\n",
    "from transformers import AutoModel, AutoTokenizer\n",
    "\n",
    "# Load pretrained model/tokenizer\n",
    "tokenizer = AutoTokenizer.from_pretrained(\"dbmdz/distilbert-base-turkish-cased\")\n",
    "model = AutoModel.from_pretrained(\"dbmdz/distilbert-base-turkish-cased\")"
   ]
  },
  {
   "cell_type": "markdown",
   "id": "timely-liabilities",
   "metadata": {
    "papermill": {
     "duration": 0.035309,
     "end_time": "2021-04-08T23:59:02.217495",
     "exception": false,
     "start_time": "2021-04-08T23:59:02.182186",
     "status": "completed"
    },
    "tags": []
   },
   "source": [
    "# Load Dataset"
   ]
  },
  {
   "cell_type": "code",
   "execution_count": 4,
   "id": "vertical-deputy",
   "metadata": {
    "execution": {
     "iopub.execute_input": "2021-04-08T23:59:02.298699Z",
     "iopub.status.busy": "2021-04-08T23:59:02.298053Z",
     "iopub.status.idle": "2021-04-08T23:59:02.418233Z",
     "shell.execute_reply": "2021-04-08T23:59:02.417652Z"
    },
    "papermill": {
     "duration": 0.165277,
     "end_time": "2021-04-08T23:59:02.418381",
     "exception": false,
     "start_time": "2021-04-08T23:59:02.253104",
     "status": "completed"
    },
    "tags": []
   },
   "outputs": [
    {
     "name": "stdout",
     "output_type": "stream",
     "text": [
      "<class 'pandas.core.frame.DataFrame'>\n",
      "RangeIndex: 7996 entries, 0 to 7995\n",
      "Data columns (total 3 columns):\n",
      " #   Column      Non-Null Count  Dtype \n",
      "---  ------      --------------  ----- \n",
      " 0   Unnamed: 0  7996 non-null   int64 \n",
      " 1   comment     7996 non-null   object\n",
      " 2   Label       7996 non-null   int64 \n",
      "dtypes: int64(2), object(1)\n",
      "memory usage: 187.5+ KB\n"
     ]
    }
   ],
   "source": [
    "dataset = pd.read_csv(\"/kaggle/input/turkish-sentiment-analysis-data-beyazperdecom/train.csv\")\n",
    "test = pd.read_csv(\"/kaggle/input/turkish-sentiment-analysis-data-beyazperdecom/test.csv\")\n",
    "dataset.info()"
   ]
  },
  {
   "cell_type": "code",
   "execution_count": 5,
   "id": "included-latest",
   "metadata": {
    "execution": {
     "iopub.execute_input": "2021-04-08T23:59:02.499528Z",
     "iopub.status.busy": "2021-04-08T23:59:02.498834Z",
     "iopub.status.idle": "2021-04-08T23:59:02.502971Z",
     "shell.execute_reply": "2021-04-08T23:59:02.502465Z"
    },
    "papermill": {
     "duration": 0.048592,
     "end_time": "2021-04-08T23:59:02.503123",
     "exception": false,
     "start_time": "2021-04-08T23:59:02.454531",
     "status": "completed"
    },
    "tags": []
   },
   "outputs": [
    {
     "data": {
      "text/plain": [
       "2"
      ]
     },
     "execution_count": 5,
     "metadata": {},
     "output_type": "execute_result"
    }
   ],
   "source": [
    "#number of labels\n",
    "len(set(dataset[\"Label\"].values))"
   ]
  },
  {
   "cell_type": "markdown",
   "id": "painful-radio",
   "metadata": {
    "papermill": {
     "duration": 0.036093,
     "end_time": "2021-04-08T23:59:02.575289",
     "exception": false,
     "start_time": "2021-04-08T23:59:02.539196",
     "status": "completed"
    },
    "tags": []
   },
   "source": [
    "# Helper Functions"
   ]
  },
  {
   "cell_type": "code",
   "execution_count": 6,
   "id": "federal-violence",
   "metadata": {
    "execution": {
     "iopub.execute_input": "2021-04-08T23:59:02.652642Z",
     "iopub.status.busy": "2021-04-08T23:59:02.651611Z",
     "iopub.status.idle": "2021-04-08T23:59:03.154131Z",
     "shell.execute_reply": "2021-04-08T23:59:03.153493Z"
    },
    "papermill": {
     "duration": 0.542704,
     "end_time": "2021-04-08T23:59:03.154301",
     "exception": false,
     "start_time": "2021-04-08T23:59:02.611597",
     "status": "completed"
    },
    "tags": []
   },
   "outputs": [],
   "source": [
    "import re\n",
    "TAG_RE = re.compile(r'<[^>]+>')\n",
    "\n",
    "def remove_tags(text):\n",
    "    return TAG_RE.sub('', text)\n",
    "\n",
    "def preprocess_text(sen):\n",
    "    # Removing html tags\n",
    "    sentence = remove_tags(sen)\n",
    "\n",
    "    # Remove punctuations and numbers\n",
    "    sentence = re.sub('[^a-zA-Z]', ' ', sentence)\n",
    "\n",
    "    # Single character removal\n",
    "    sentence = re.sub(r\"\\s+[a-zA-Z]\\s+\", ' ', sentence)\n",
    "\n",
    "    # Removing newlines\n",
    "    sentence = re.sub(r'\\n', ' ', sentence)\n",
    "    \n",
    "    # Removing multiple spaces\n",
    "    sentence = re.sub(r'\\s+', ' ', sentence)\n",
    "\n",
    "    return sentence\n",
    "dataset[\"comment\"] = dataset[\"comment\"].apply(lambda x : preprocess_text(str(x)))\n",
    "dataset[\"comment\"] = dataset[\"comment\"].apply(lambda x : ' '.join([w.strip() for w in x.split() if w!=' ']))\n",
    "\n",
    "test[\"comment\"] = test[\"comment\"].apply(lambda x : preprocess_text(str(x)))\n",
    "test[\"comment\"] = test[\"comment\"].apply(lambda x : ' '.join([w.strip() for w in x.split() if w!=' ']))"
   ]
  },
  {
   "cell_type": "code",
   "execution_count": 7,
   "id": "bored-guidance",
   "metadata": {
    "execution": {
     "iopub.execute_input": "2021-04-08T23:59:03.236920Z",
     "iopub.status.busy": "2021-04-08T23:59:03.236013Z",
     "iopub.status.idle": "2021-04-08T23:59:03.239949Z",
     "shell.execute_reply": "2021-04-08T23:59:03.239359Z"
    },
    "papermill": {
     "duration": 0.04868,
     "end_time": "2021-04-08T23:59:03.240103",
     "exception": false,
     "start_time": "2021-04-08T23:59:03.191423",
     "status": "completed"
    },
    "tags": []
   },
   "outputs": [],
   "source": [
    "def summarize_model(history):\n",
    "    pyplot.subplot(211)\n",
    "    pyplot.title('Loss')\n",
    "    pyplot.plot(history.history['loss'], label='train')\n",
    "    pyplot.plot(history.history['val_loss'], label='test')\n",
    "    pyplot.legend()\n",
    "    # plot accuracy during training\n",
    "    pyplot.subplot(212)\n",
    "    pyplot.title('Accuracy')\n",
    "    pyplot.plot(history.history['accuracy'], label='train')\n",
    "    pyplot.plot(history.history['val_accuracy'], label='test')\n",
    "    pyplot.legend()\n",
    "    pyplot.show()"
   ]
  },
  {
   "cell_type": "markdown",
   "id": "tracked-australian",
   "metadata": {
    "papermill": {
     "duration": 0.037104,
     "end_time": "2021-04-08T23:59:03.314276",
     "exception": false,
     "start_time": "2021-04-08T23:59:03.277172",
     "status": "completed"
    },
    "tags": []
   },
   "source": [
    "# Data Statistics"
   ]
  },
  {
   "cell_type": "code",
   "execution_count": 8,
   "id": "antique-sacrifice",
   "metadata": {
    "execution": {
     "iopub.execute_input": "2021-04-08T23:59:03.392167Z",
     "iopub.status.busy": "2021-04-08T23:59:03.391321Z",
     "iopub.status.idle": "2021-04-08T23:59:03.397890Z",
     "shell.execute_reply": "2021-04-08T23:59:03.398479Z"
    },
    "papermill": {
     "duration": 0.047354,
     "end_time": "2021-04-08T23:59:03.398703",
     "exception": false,
     "start_time": "2021-04-08T23:59:03.351349",
     "status": "completed"
    },
    "tags": []
   },
   "outputs": [],
   "source": [
    "train_x,eval_x,train_y,eval_y = train_test_split(dataset[\"comment\"],dataset[\"Label\"],test_size=0.35)"
   ]
  },
  {
   "cell_type": "code",
   "execution_count": 9,
   "id": "timely-anniversary",
   "metadata": {
    "execution": {
     "iopub.execute_input": "2021-04-08T23:59:03.475759Z",
     "iopub.status.busy": "2021-04-08T23:59:03.475048Z",
     "iopub.status.idle": "2021-04-08T23:59:03.483164Z",
     "shell.execute_reply": "2021-04-08T23:59:03.482589Z"
    },
    "papermill": {
     "duration": 0.047748,
     "end_time": "2021-04-08T23:59:03.483319",
     "exception": false,
     "start_time": "2021-04-08T23:59:03.435571",
     "status": "completed"
    },
    "tags": []
   },
   "outputs": [
    {
     "name": "stdout",
     "output_type": "stream",
     "text": [
      "length of train set: 5197\n",
      "length of validate set: 2799\n",
      "length of test set: 2666\n"
     ]
    }
   ],
   "source": [
    "print(\"length of train set:\",len(train_x))\n",
    "print(\"length of validate set:\",len(eval_x))\n",
    "print(\"length of test set:\",len(test))"
   ]
  },
  {
   "cell_type": "markdown",
   "id": "national-finger",
   "metadata": {
    "papermill": {
     "duration": 0.03703,
     "end_time": "2021-04-08T23:59:03.558296",
     "exception": false,
     "start_time": "2021-04-08T23:59:03.521266",
     "status": "completed"
    },
    "tags": []
   },
   "source": [
    "# Prepare Data for Bert "
   ]
  },
  {
   "cell_type": "code",
   "execution_count": 10,
   "id": "cooked-showcase",
   "metadata": {
    "execution": {
     "iopub.execute_input": "2021-04-08T23:59:03.639558Z",
     "iopub.status.busy": "2021-04-08T23:59:03.638861Z",
     "iopub.status.idle": "2021-04-08T23:59:03.972004Z",
     "shell.execute_reply": "2021-04-08T23:59:03.971414Z"
    },
    "papermill": {
     "duration": 0.376656,
     "end_time": "2021-04-08T23:59:03.972164",
     "exception": false,
     "start_time": "2021-04-08T23:59:03.595508",
     "status": "completed"
    },
    "tags": []
   },
   "outputs": [],
   "source": [
    "tokenized_tr=tokenizer.batch_encode_plus(train_x.tolist(),max_length =100,return_attention_mask=True,padding=True)"
   ]
  },
  {
   "cell_type": "code",
   "execution_count": 11,
   "id": "retired-prescription",
   "metadata": {
    "execution": {
     "iopub.execute_input": "2021-04-08T23:59:04.076129Z",
     "iopub.status.busy": "2021-04-08T23:59:04.074773Z",
     "iopub.status.idle": "2021-04-08T23:59:04.270875Z",
     "shell.execute_reply": "2021-04-08T23:59:04.271368Z"
    },
    "papermill": {
     "duration": 0.261988,
     "end_time": "2021-04-08T23:59:04.271566",
     "exception": false,
     "start_time": "2021-04-08T23:59:04.009578",
     "status": "completed"
    },
    "tags": []
   },
   "outputs": [],
   "source": [
    "tokenized_vl=tokenizer.batch_encode_plus(eval_x.tolist(),max_length =100,return_attention_mask=True,padding=True)"
   ]
  },
  {
   "cell_type": "code",
   "execution_count": 12,
   "id": "hollow-exclusive",
   "metadata": {
    "execution": {
     "iopub.execute_input": "2021-04-08T23:59:04.355526Z",
     "iopub.status.busy": "2021-04-08T23:59:04.354477Z",
     "iopub.status.idle": "2021-04-08T23:59:04.535045Z",
     "shell.execute_reply": "2021-04-08T23:59:04.535522Z"
    },
    "papermill": {
     "duration": 0.226844,
     "end_time": "2021-04-08T23:59:04.535709",
     "exception": false,
     "start_time": "2021-04-08T23:59:04.308865",
     "status": "completed"
    },
    "tags": []
   },
   "outputs": [],
   "source": [
    "tokenized_ts=tokenizer.batch_encode_plus(test[\"comment\"].tolist(),max_length =100,return_attention_mask=True,padding=True)"
   ]
  },
  {
   "cell_type": "markdown",
   "id": "arctic-sodium",
   "metadata": {
    "papermill": {
     "duration": 0.037437,
     "end_time": "2021-04-08T23:59:04.610895",
     "exception": false,
     "start_time": "2021-04-08T23:59:04.573458",
     "status": "completed"
    },
    "tags": []
   },
   "source": [
    "# Build Model"
   ]
  },
  {
   "cell_type": "code",
   "execution_count": 13,
   "id": "damaged-thong",
   "metadata": {
    "execution": {
     "iopub.execute_input": "2021-04-08T23:59:04.689557Z",
     "iopub.status.busy": "2021-04-08T23:59:04.688859Z",
     "iopub.status.idle": "2021-04-08T23:59:04.694313Z",
     "shell.execute_reply": "2021-04-08T23:59:04.694892Z"
    },
    "papermill": {
     "duration": 0.04667,
     "end_time": "2021-04-08T23:59:04.695073",
     "exception": false,
     "start_time": "2021-04-08T23:59:04.648403",
     "status": "completed"
    },
    "tags": []
   },
   "outputs": [],
   "source": [
    "def get_features(padded,attention):\n",
    "    input_ids = torch.tensor(padded,dtype=torch.int64)  \n",
    "    attention_mask = torch.tensor(attention,dtype=torch.int64)\n",
    "    with torch.no_grad():\n",
    "        last_hidden_states = model(input_ids,attention_mask)\n",
    "    features = last_hidden_states[0][:,0,:].numpy()\n",
    "    return features"
   ]
  },
  {
   "cell_type": "code",
   "execution_count": 14,
   "id": "stable-insulin",
   "metadata": {
    "execution": {
     "iopub.execute_input": "2021-04-08T23:59:04.774044Z",
     "iopub.status.busy": "2021-04-08T23:59:04.773248Z",
     "iopub.status.idle": "2021-04-09T00:05:29.208374Z",
     "shell.execute_reply": "2021-04-09T00:05:29.207100Z"
    },
    "papermill": {
     "duration": 384.476058,
     "end_time": "2021-04-09T00:05:29.208890",
     "exception": false,
     "start_time": "2021-04-08T23:59:04.732832",
     "status": "completed"
    },
    "tags": []
   },
   "outputs": [],
   "source": [
    "features_tr = get_features(tokenized_tr['input_ids'],tokenized_tr['attention_mask'])"
   ]
  },
  {
   "cell_type": "code",
   "execution_count": 15,
   "id": "south-tooth",
   "metadata": {
    "execution": {
     "iopub.execute_input": "2021-04-09T00:05:29.329055Z",
     "iopub.status.busy": "2021-04-09T00:05:29.327769Z",
     "iopub.status.idle": "2021-04-09T00:08:56.030228Z",
     "shell.execute_reply": "2021-04-09T00:08:56.030815Z"
    },
    "papermill": {
     "duration": 206.765882,
     "end_time": "2021-04-09T00:08:56.031045",
     "exception": false,
     "start_time": "2021-04-09T00:05:29.265163",
     "status": "completed"
    },
    "tags": []
   },
   "outputs": [],
   "source": [
    "features_vl = get_features(tokenized_vl['input_ids'],tokenized_vl['attention_mask'])"
   ]
  },
  {
   "cell_type": "code",
   "execution_count": 16,
   "id": "advance-variance",
   "metadata": {
    "execution": {
     "iopub.execute_input": "2021-04-09T00:08:56.111959Z",
     "iopub.status.busy": "2021-04-09T00:08:56.111277Z",
     "iopub.status.idle": "2021-04-09T00:12:13.253988Z",
     "shell.execute_reply": "2021-04-09T00:12:13.253060Z"
    },
    "papermill": {
     "duration": 197.184004,
     "end_time": "2021-04-09T00:12:13.254206",
     "exception": false,
     "start_time": "2021-04-09T00:08:56.070202",
     "status": "completed"
    },
    "tags": []
   },
   "outputs": [],
   "source": [
    "features_ts = get_features(tokenized_ts['input_ids'],tokenized_ts['attention_mask'])"
   ]
  },
  {
   "cell_type": "markdown",
   "id": "consolidated-currency",
   "metadata": {
    "papermill": {
     "duration": 0.03758,
     "end_time": "2021-04-09T00:12:13.331399",
     "exception": false,
     "start_time": "2021-04-09T00:12:13.293819",
     "status": "completed"
    },
    "tags": []
   },
   "source": [
    "**Traditional Machine Learning Algorithms**"
   ]
  },
  {
   "cell_type": "code",
   "execution_count": 17,
   "id": "taken-regular",
   "metadata": {
    "execution": {
     "iopub.execute_input": "2021-04-09T00:12:13.411468Z",
     "iopub.status.busy": "2021-04-09T00:12:13.410639Z",
     "iopub.status.idle": "2021-04-09T00:12:14.728907Z",
     "shell.execute_reply": "2021-04-09T00:12:14.728216Z"
    },
    "papermill": {
     "duration": 1.359617,
     "end_time": "2021-04-09T00:12:14.729080",
     "exception": false,
     "start_time": "2021-04-09T00:12:13.369463",
     "status": "completed"
    },
    "tags": []
   },
   "outputs": [
    {
     "name": "stdout",
     "output_type": "stream",
     "text": [
      "train score: 0.7987300365595535\n",
      "validation score: 0.77491961414791\n",
      "test score: 0.7880720180045011\n"
     ]
    }
   ],
   "source": [
    "#logistic regression\n",
    "from sklearn.linear_model import LogisticRegression\n",
    "lr_clf = LogisticRegression()\n",
    "lr_clf.fit(features_tr, train_y)\n",
    "print('train score:',lr_clf.score(features_tr, train_y))\n",
    "print('validation score:',lr_clf.score(features_vl, eval_y))\n",
    "print('test score:',lr_clf.score(features_ts, test['Label']))"
   ]
  },
  {
   "cell_type": "code",
   "execution_count": 18,
   "id": "later-patient",
   "metadata": {
    "execution": {
     "iopub.execute_input": "2021-04-09T00:12:14.815304Z",
     "iopub.status.busy": "2021-04-09T00:12:14.814609Z",
     "iopub.status.idle": "2021-04-09T00:12:15.029405Z",
     "shell.execute_reply": "2021-04-09T00:12:15.029980Z"
    },
    "papermill": {
     "duration": 0.260529,
     "end_time": "2021-04-09T00:12:15.030204",
     "exception": false,
     "start_time": "2021-04-09T00:12:14.769675",
     "status": "completed"
    },
    "tags": []
   },
   "outputs": [
    {
     "name": "stdout",
     "output_type": "stream",
     "text": [
      "train score: 0.512988262459111\n",
      "validation score: 0.4955341193283315\n",
      "test score: 0.5146286571642911\n"
     ]
    }
   ],
   "source": [
    "#naive bayes\n",
    "from sklearn.naive_bayes import GaussianNB\n",
    "gnb = GaussianNB()\n",
    "gnb.fit(features_tr, train_y)\n",
    "print('train score:',gnb.score(features_tr, train_y))\n",
    "print('validation score:',gnb.score(features_vl, eval_y))\n",
    "print('test score:',gnb.score(features_ts, test['Label']))"
   ]
  },
  {
   "cell_type": "markdown",
   "id": "another-progress",
   "metadata": {
    "papermill": {
     "duration": 0.03939,
     "end_time": "2021-04-09T00:12:15.110405",
     "exception": false,
     "start_time": "2021-04-09T00:12:15.071015",
     "status": "completed"
    },
    "tags": []
   },
   "source": [
    "**Deep Learning Models**"
   ]
  },
  {
   "cell_type": "code",
   "execution_count": 19,
   "id": "interim-congo",
   "metadata": {
    "execution": {
     "iopub.execute_input": "2021-04-09T00:12:15.191726Z",
     "iopub.status.busy": "2021-04-09T00:12:15.191099Z",
     "iopub.status.idle": "2021-04-09T00:12:15.321737Z",
     "shell.execute_reply": "2021-04-09T00:12:15.321161Z"
    },
    "papermill": {
     "duration": 0.172475,
     "end_time": "2021-04-09T00:12:15.321895",
     "exception": false,
     "start_time": "2021-04-09T00:12:15.149420",
     "status": "completed"
    },
    "tags": []
   },
   "outputs": [],
   "source": [
    "from tensorflow.keras.layers import Input,concatenate,Dense\n",
    "from tensorflow.keras.models import Model\n",
    "from tensorflow.keras.optimizers import Adam\n",
    "import tensorflow as tf \n",
    "\n",
    "input1 = Input(shape=(features_tr.shape[1],))\n",
    "dense1 = Dense(128,activation='relu')(input1)\n",
    "dense2 = Dense(1,activation='sigmoid')(dense1)\n",
    "tfmodel = Model(inputs=input1,outputs=dense2)"
   ]
  },
  {
   "cell_type": "code",
   "execution_count": 20,
   "id": "substantial-davis",
   "metadata": {
    "execution": {
     "iopub.execute_input": "2021-04-09T00:12:15.407173Z",
     "iopub.status.busy": "2021-04-09T00:12:15.406186Z",
     "iopub.status.idle": "2021-04-09T00:12:16.072853Z",
     "shell.execute_reply": "2021-04-09T00:12:16.073645Z"
    },
    "papermill": {
     "duration": 0.712943,
     "end_time": "2021-04-09T00:12:16.073927",
     "exception": false,
     "start_time": "2021-04-09T00:12:15.360984",
     "status": "completed"
    },
    "tags": []
   },
   "outputs": [
    {
     "data": {
      "image/png": "[encoded data removed]",
      "text/plain": [
       "<IPython.core.display.Image object>"
      ]
     },
     "execution_count": 20,
     "metadata": {},
     "output_type": "execute_result"
    }
   ],
   "source": [
    "tf.keras.utils.plot_model(tfmodel, show_shapes=True, dpi=48)"
   ]
  },
  {
   "cell_type": "code",
   "execution_count": 21,
   "id": "racial-bargain",
   "metadata": {
    "execution": {
     "iopub.execute_input": "2021-04-09T00:12:16.172850Z",
     "iopub.status.busy": "2021-04-09T00:12:16.171887Z",
     "iopub.status.idle": "2021-04-09T00:12:19.502231Z",
     "shell.execute_reply": "2021-04-09T00:12:19.501642Z"
    },
    "papermill": {
     "duration": 3.374055,
     "end_time": "2021-04-09T00:12:19.502377",
     "exception": false,
     "start_time": "2021-04-09T00:12:16.128322",
     "status": "completed"
    },
    "tags": []
   },
   "outputs": [
    {
     "name": "stdout",
     "output_type": "stream",
     "text": [
      "Epoch 1/3\n",
      "163/163 [==============================] - 2s 6ms/step - loss: 0.7334 - accuracy: 0.5174 - val_loss: 0.7259 - val_accuracy: 0.4948\n",
      "Epoch 2/3\n",
      "163/163 [==============================] - 0s 3ms/step - loss: 0.6985 - accuracy: 0.5647 - val_loss: 0.6652 - val_accuracy: 0.5502\n",
      "Epoch 3/3\n",
      "163/163 [==============================] - 0s 3ms/step - loss: 0.6609 - accuracy: 0.6075 - val_loss: 0.6252 - val_accuracy: 0.7010\n"
     ]
    }
   ],
   "source": [
    "loss = tf.keras.losses.BinaryCrossentropy (from_logits=False)\n",
    "optimizer = keras.optimizers.Adam(lr=1e-3,decay=1e-3/32)\n",
    "tfmodel.compile(optimizer=optimizer, loss=[loss, loss],metrics=[\"accuracy\"])\n",
    "checkpoint = tf.keras.callbacks.ModelCheckpoint('model.h5', monitor='val_accuracy', save_best_only=True)\n",
    "earlystopping = tf.keras.callbacks.EarlyStopping(monitor='val_accuracy')\n",
    "fine_history = tfmodel.fit(features_tr, train_y, validation_data=(features_vl,eval_y),\n",
    "                          epochs=3, callbacks=[checkpoint, earlystopping],batch_size=32,verbose=1)"
   ]
  },
  {
   "cell_type": "code",
   "execution_count": 22,
   "id": "medieval-typing",
   "metadata": {
    "execution": {
     "iopub.execute_input": "2021-04-09T00:12:19.600235Z",
     "iopub.status.busy": "2021-04-09T00:12:19.599602Z",
     "iopub.status.idle": "2021-04-09T00:12:19.930192Z",
     "shell.execute_reply": "2021-04-09T00:12:19.929515Z"
    },
    "papermill": {
     "duration": 0.380829,
     "end_time": "2021-04-09T00:12:19.930348",
     "exception": false,
     "start_time": "2021-04-09T00:12:19.549519",
     "status": "completed"
    },
    "tags": []
   },
   "outputs": [
    {
     "data": {
      "image/png": "[encoded data removed]",
      "text/plain": [
       "<Figure size 432x288 with 2 Axes>"
      ]
     },
     "metadata": {
      "needs_background": "light"
     },
     "output_type": "display_data"
    }
   ],
   "source": [
    "summarize_model(fine_history)"
   ]
  },
  {
   "cell_type": "markdown",
   "id": "distinct-requirement",
   "metadata": {
    "papermill": {
     "duration": 0.04919,
     "end_time": "2021-04-09T00:12:20.028642",
     "exception": false,
     "start_time": "2021-04-09T00:12:19.979452",
     "status": "completed"
    },
    "tags": []
   },
   "source": [
    "**Evaluation**"
   ]
  },
  {
   "cell_type": "code",
   "execution_count": 23,
   "id": "rubber-armor",
   "metadata": {
    "execution": {
     "iopub.execute_input": "2021-04-09T00:12:20.132685Z",
     "iopub.status.busy": "2021-04-09T00:12:20.132017Z",
     "iopub.status.idle": "2021-04-09T00:12:20.410711Z",
     "shell.execute_reply": "2021-04-09T00:12:20.410006Z"
    },
    "papermill": {
     "duration": 0.332699,
     "end_time": "2021-04-09T00:12:20.410874",
     "exception": false,
     "start_time": "2021-04-09T00:12:20.078175",
     "status": "completed"
    },
    "tags": []
   },
   "outputs": [
    {
     "name": "stdout",
     "output_type": "stream",
     "text": [
      "              precision    recall  f1-score   support\n",
      "\n",
      "           0       0.73      0.66      0.69      2583\n",
      "           1       0.69      0.76      0.72      2614\n",
      "\n",
      "    accuracy                           0.71      5197\n",
      "   macro avg       0.71      0.71      0.71      5197\n",
      "weighted avg       0.71      0.71      0.71      5197\n",
      "\n"
     ]
    }
   ],
   "source": [
    "#training set\n",
    "y_pred=tfmodel.predict(features_tr)\n",
    "y_pred = y_pred.round()\n",
    "print(classification_report(train_y,y_pred))"
   ]
  },
  {
   "cell_type": "code",
   "execution_count": 24,
   "id": "consolidated-trace",
   "metadata": {
    "execution": {
     "iopub.execute_input": "2021-04-09T00:12:20.515263Z",
     "iopub.status.busy": "2021-04-09T00:12:20.513897Z",
     "iopub.status.idle": "2021-04-09T00:12:20.646866Z",
     "shell.execute_reply": "2021-04-09T00:12:20.645897Z"
    },
    "papermill": {
     "duration": 0.187216,
     "end_time": "2021-04-09T00:12:20.647076",
     "exception": false,
     "start_time": "2021-04-09T00:12:20.459860",
     "status": "completed"
    },
    "tags": []
   },
   "outputs": [
    {
     "name": "stdout",
     "output_type": "stream",
     "text": [
      "              precision    recall  f1-score   support\n",
      "\n",
      "           0       0.73      0.65      0.69      1415\n",
      "           1       0.68      0.75      0.71      1384\n",
      "\n",
      "    accuracy                           0.70      2799\n",
      "   macro avg       0.70      0.70      0.70      2799\n",
      "weighted avg       0.70      0.70      0.70      2799\n",
      "\n"
     ]
    }
   ],
   "source": [
    "#validation set\n",
    "y_pred=tfmodel.predict(features_vl)\n",
    "y_pred = y_pred.round()\n",
    "print(classification_report(eval_y,y_pred))"
   ]
  },
  {
   "cell_type": "code",
   "execution_count": 25,
   "id": "brief-louisville",
   "metadata": {
    "execution": {
     "iopub.execute_input": "2021-04-09T00:12:20.753998Z",
     "iopub.status.busy": "2021-04-09T00:12:20.753309Z",
     "iopub.status.idle": "2021-04-09T00:12:20.874999Z",
     "shell.execute_reply": "2021-04-09T00:12:20.874109Z"
    },
    "papermill": {
     "duration": 0.177681,
     "end_time": "2021-04-09T00:12:20.875428",
     "exception": false,
     "start_time": "2021-04-09T00:12:20.697747",
     "status": "completed"
    },
    "tags": []
   },
   "outputs": [
    {
     "name": "stdout",
     "output_type": "stream",
     "text": [
      "              precision    recall  f1-score   support\n",
      "\n",
      "           0       0.73      0.64      0.68      1333\n",
      "           1       0.68      0.77      0.72      1333\n",
      "\n",
      "    accuracy                           0.70      2666\n",
      "   macro avg       0.71      0.70      0.70      2666\n",
      "weighted avg       0.71      0.70      0.70      2666\n",
      "\n"
     ]
    }
   ],
   "source": [
    "#testing set\n",
    "y_pred=tfmodel.predict(features_ts)\n",
    "y_pred = y_pred.round()\n",
    "print(classification_report(test['Label'],y_pred))"
   ]
  }
 ],
 "metadata": {
  "kernelspec": {
   "display_name": "Python 3",
   "language": "python",
   "name": "python3"
  },
  "language_info": {
   "codemirror_mode": {
    "name": "ipython",
    "version": 3
   },
   "file_extension": ".py",
   "mimetype": "text/x-python",
   "name": "python",
   "nbconvert_exporter": "python",
   "pygments_lexer": "ipython3",
   "version": "3.7.9"
  },
  "papermill": {
   "default_parameters": {},
   "duration": 884.293814,
   "end_time": "2021-04-09T00:12:22.643201",
   "environment_variables": {},
   "exception": null,
   "input_path": "__notebook__.ipynb",
   "output_path": "__notebook__.ipynb",
   "parameters": {},
   "start_time": "2021-04-08T23:57:38.349387",
   "version": "2.3.2"
  },
  "widgets": {
   "application/vnd.jupyter.widget-state+json": {
    "state": {
     "05ff796cc2544d3ca0d30714691fc84a": {
      "model_module": "@jupyter-widgets/base",
      "model_module_version": "1.2.0",
      "model_name": "LayoutModel",
      "state": {
       "_model_module": "@jupyter-widgets/base",
       "_model_module_version": "1.2.0",
       "_model_name": "LayoutModel",
       "_view_count": null,
       "_view_module": "@jupyter-widgets/base",
       "_view_module_version": "1.2.0",
       "_view_name": "LayoutView",
       "align_content": null,
       "align_items": null,
       "align_self": null,
       "border": null,
       "bottom": null,
       "display": null,
       "flex": null,
       "flex_flow": null,
       "grid_area": null,
       "grid_auto_columns": null,
       "grid_auto_flow": null,
       "grid_auto_rows": null,
       "grid_column": null,
       "grid_gap": null,
       "grid_row": null,
       "grid_template_areas": null,
       "grid_template_columns": null,
       "grid_template_rows": null,
       "height": null,
       "justify_content": null,
       "justify_items": null,
       "left": null,
       "margin": null,
       "max_height": null,
       "max_width": null,
       "min_height": null,
       "min_width": null,
       "object_fit": null,
       "object_position": null,
       "order": null,
       "overflow": null,
       "overflow_x": null,
       "overflow_y": null,
       "padding": null,
       "right": null,
       "top": null,
       "visibility": null,
       "width": null
      }
     },
     "0e701b313cb44e4a97034909de956986": {
      "model_module": "@jupyter-widgets/controls",
      "model_module_version": "1.5.0",
      "model_name": "HTMLModel",
      "state": {
       "_dom_classes": [],
       "_model_module": "@jupyter-widgets/controls",
       "_model_module_version": "1.5.0",
       "_model_name": "HTMLModel",
       "_view_count": null,
       "_view_module": "@jupyter-widgets/controls",
       "_view_module_version": "1.5.0",
       "_view_name": "HTMLView",
       "description": "",
       "description_tooltip": null,
       "layout": "IPY_MODEL_5bcc9166aad34e1780abcfb2cfdf082f",
       "placeholder": "​",
       "style": "IPY_MODEL_a0d4469a11a74e70a591135228ca083b",
       "value": " 251k/251k [00:00&lt;00:00, 866kB/s]"
      }
     },
     "0ff0facd9f4a4feab86e3f4710c3d730": {
      "model_module": "@jupyter-widgets/controls",
      "model_module_version": "1.5.0",
      "model_name": "FloatProgressModel",
      "state": {
       "_dom_classes": [],
       "_model_module": "@jupyter-widgets/controls",
       "_model_module_version": "1.5.0",
       "_model_name": "FloatProgressModel",
       "_view_count": null,
       "_view_module": "@jupyter-widgets/controls",
       "_view_module_version": "1.5.0",
       "_view_name": "ProgressView",
       "bar_style": "success",
       "description": "",
       "description_tooltip": null,
       "layout": "IPY_MODEL_95926eb74184461f89ee1d168aaa2fdd",
       "max": 272512865.0,
       "min": 0.0,
       "orientation": "horizontal",
       "style": "IPY_MODEL_a5abbd65abc144768a7ade4af082f460",
       "value": 272512865.0
      }
     },
     "1825d3c951194ee7b8488674a563e888": {
      "model_module": "@jupyter-widgets/base",
      "model_module_version": "1.2.0",
      "model_name": "LayoutModel",
      "state": {
       "_model_module": "@jupyter-widgets/base",
       "_model_module_version": "1.2.0",
       "_model_name": "LayoutModel",
       "_view_count": null,
       "_view_module": "@jupyter-widgets/base",
       "_view_module_version": "1.2.0",
       "_view_name": "LayoutView",
       "align_content": null,
       "align_items": null,
       "align_self": null,
       "border": null,
       "bottom": null,
       "display": null,
       "flex": null,
       "flex_flow": null,
       "grid_area": null,
       "grid_auto_columns": null,
       "grid_auto_flow": null,
       "grid_auto_rows": null,
       "grid_column": null,
       "grid_gap": null,
       "grid_row": null,
       "grid_template_areas": null,
       "grid_template_columns": null,
       "grid_template_rows": null,
       "height": null,
       "justify_content": null,
       "justify_items": null,
       "left": null,
       "margin": null,
       "max_height": null,
       "max_width": null,
       "min_height": null,
       "min_width": null,
       "object_fit": null,
       "object_position": null,
       "order": null,
       "overflow": null,
       "overflow_x": null,
       "overflow_y": null,
       "padding": null,
       "right": null,
       "top": null,
       "visibility": null,
       "width": null
      }
     },
     "196ac62d9db142c7afe3379ee0277f70": {
      "model_module": "@jupyter-widgets/controls",
      "model_module_version": "1.5.0",
      "model_name": "ProgressStyleModel",
      "state": {
       "_model_module": "@jupyter-widgets/controls",
       "_model_module_version": "1.5.0",
       "_model_name": "ProgressStyleModel",
       "_view_count": null,
       "_view_module": "@jupyter-widgets/base",
       "_view_module_version": "1.2.0",
       "_view_name": "StyleView",
       "bar_color": null,
       "description_width": ""
      }
     },
     "1f025e30d90d4b77bbd77a0ae6e14a7e": {
      "model_module": "@jupyter-widgets/controls",
      "model_module_version": "1.5.0",
      "model_name": "FloatProgressModel",
      "state": {
       "_dom_classes": [],
       "_model_module": "@jupyter-widgets/controls",
       "_model_module_version": "1.5.0",
       "_model_name": "FloatProgressModel",
       "_view_count": null,
       "_view_module": "@jupyter-widgets/controls",
       "_view_module_version": "1.5.0",
       "_view_name": "ProgressView",
       "bar_style": "success",
       "description": "",
       "description_tooltip": null,
       "layout": "IPY_MODEL_2ced18f346204cc29e9e0af52658d245",
       "max": 60.0,
       "min": 0.0,
       "orientation": "horizontal",
       "style": "IPY_MODEL_e5f5fe698ac443f594792e7e6cfacebc",
       "value": 60.0
      }
     },
     "25a92ad0acbc468986f7d8a91f45c02c": {
      "model_module": "@jupyter-widgets/controls",
      "model_module_version": "1.5.0",
      "model_name": "HTMLModel",
      "state": {
       "_dom_classes": [],
       "_model_module": "@jupyter-widgets/controls",
       "_model_module_version": "1.5.0",
       "_model_name": "HTMLModel",
       "_view_count": null,
       "_view_module": "@jupyter-widgets/controls",
       "_view_module_version": "1.5.0",
       "_view_name": "HTMLView",
       "description": "",
       "description_tooltip": null,
       "layout": "IPY_MODEL_39d189bf897e4ec68414931d014228b9",
       "placeholder": "​",
       "style": "IPY_MODEL_9f47b78275ef4859ad61fc0a41879851",
       "value": " 273M/273M [00:12&lt;00:00, 23.6MB/s]"
      }
     },
     "29ab9d55897e4b1baf46ee8ab27f3a1e": {
      "model_module": "@jupyter-widgets/controls",
      "model_module_version": "1.5.0",
      "model_name": "HTMLModel",
      "state": {
       "_dom_classes": [],
       "_model_module": "@jupyter-widgets/controls",
       "_model_module_version": "1.5.0",
       "_model_name": "HTMLModel",
       "_view_count": null,
       "_view_module": "@jupyter-widgets/controls",
       "_view_module_version": "1.5.0",
       "_view_name": "HTMLView",
       "description": "",
       "description_tooltip": null,
       "layout": "IPY_MODEL_72f99183c1a6476ba8a2a466a706eca8",
       "placeholder": "​",
       "style": "IPY_MODEL_9078ce6b6bc242d7939af067e6883056",
       "value": " 410/410 [00:00&lt;00:00, 12.1kB/s]"
      }
     },
     "29f96e7ae397466586712e10d677a50f": {
      "model_module": "@jupyter-widgets/base",
      "model_module_version": "1.2.0",
      "model_name": "LayoutModel",
      "state": {
       "_model_module": "@jupyter-widgets/base",
       "_model_module_version": "1.2.0",
       "_model_name": "LayoutModel",
       "_view_count": null,
       "_view_module": "@jupyter-widgets/base",
       "_view_module_version": "1.2.0",
       "_view_name": "LayoutView",
       "align_content": null,
       "align_items": null,
       "align_self": null,
       "border": null,
       "bottom": null,
       "display": null,
       "flex": null,
       "flex_flow": null,
       "grid_area": null,
       "grid_auto_columns": null,
       "grid_auto_flow": null,
       "grid_auto_rows": null,
       "grid_column": null,
       "grid_gap": null,
       "grid_row": null,
       "grid_template_areas": null,
       "grid_template_columns": null,
       "grid_template_rows": null,
       "height": null,
       "justify_content": null,
       "justify_items": null,
       "left": null,
       "margin": null,
       "max_height": null,
       "max_width": null,
       "min_height": null,
       "min_width": null,
       "object_fit": null,
       "object_position": null,
       "order": null,
       "overflow": null,
       "overflow_x": null,
       "overflow_y": null,
       "padding": null,
       "right": null,
       "top": null,
       "visibility": null,
       "width": null
      }
     },
     "2ced18f346204cc29e9e0af52658d245": {
      "model_module": "@jupyter-widgets/base",
      "model_module_version": "1.2.0",
      "model_name": "LayoutModel",
      "state": {
       "_model_module": "@jupyter-widgets/base",
       "_model_module_version": "1.2.0",
       "_model_name": "LayoutModel",
       "_view_count": null,
       "_view_module": "@jupyter-widgets/base",
       "_view_module_version": "1.2.0",
       "_view_name": "LayoutView",
       "align_content": null,
       "align_items": null,
       "align_self": null,
       "border": null,
       "bottom": null,
       "display": null,
       "flex": null,
       "flex_flow": null,
       "grid_area": null,
       "grid_auto_columns": null,
       "grid_auto_flow": null,
       "grid_auto_rows": null,
       "grid_column": null,
       "grid_gap": null,
       "grid_row": null,
       "grid_template_areas": null,
       "grid_template_columns": null,
       "grid_template_rows": null,
       "height": null,
       "justify_content": null,
       "justify_items": null,
       "left": null,
       "margin": null,
       "max_height": null,
       "max_width": null,
       "min_height": null,
       "min_width": null,
       "object_fit": null,
       "object_position": null,
       "order": null,
       "overflow": null,
       "overflow_x": null,
       "overflow_y": null,
       "padding": null,
       "right": null,
       "top": null,
       "visibility": null,
       "width": null
      }
     },
     "347cddee2b6941638778616f3b8c1f45": {
      "model_module": "@jupyter-widgets/controls",
      "model_module_version": "1.5.0",
      "model_name": "HBoxModel",
      "state": {
       "_dom_classes": [],
       "_model_module": "@jupyter-widgets/controls",
       "_model_module_version": "1.5.0",
       "_model_name": "HBoxModel",
       "_view_count": null,
       "_view_module": "@jupyter-widgets/controls",
       "_view_module_version": "1.5.0",
       "_view_name": "HBoxView",
       "box_style": "",
       "children": [
        "IPY_MODEL_f392ba388a3d4841929a9dda91dedb53",
        "IPY_MODEL_1f025e30d90d4b77bbd77a0ae6e14a7e",
        "IPY_MODEL_939f188c77164bf7a6d1a3c8f5971354"
       ],
       "layout": "IPY_MODEL_69a062d1ac4e4465b1ee08d3bf84fd5b"
      }
     },
     "36f0631f4685449084533ed6e1f78683": {
      "model_module": "@jupyter-widgets/controls",
      "model_module_version": "1.5.0",
      "model_name": "FloatProgressModel",
      "state": {
       "_dom_classes": [],
       "_model_module": "@jupyter-widgets/controls",
       "_model_module_version": "1.5.0",
       "_model_name": "FloatProgressModel",
       "_view_count": null,
       "_view_module": "@jupyter-widgets/controls",
       "_view_module_version": "1.5.0",
       "_view_name": "ProgressView",
       "bar_style": "success",
       "description": "",
       "description_tooltip": null,
       "layout": "IPY_MODEL_cb1eb238865944d98c9595099f491bb9",
       "max": 410.0,
       "min": 0.0,
       "orientation": "horizontal",
       "style": "IPY_MODEL_196ac62d9db142c7afe3379ee0277f70",
       "value": 410.0
      }
     },
     "39d189bf897e4ec68414931d014228b9": {
      "model_module": "@jupyter-widgets/base",
      "model_module_version": "1.2.0",
      "model_name": "LayoutModel",
      "state": {
       "_model_module": "@jupyter-widgets/base",
       "_model_module_version": "1.2.0",
       "_model_name": "LayoutModel",
       "_view_count": null,
       "_view_module": "@jupyter-widgets/base",
       "_view_module_version": "1.2.0",
       "_view_name": "LayoutView",
       "align_content": null,
       "align_items": null,
       "align_self": null,
       "border": null,
       "bottom": null,
       "display": null,
       "flex": null,
       "flex_flow": null,
       "grid_area": null,
       "grid_auto_columns": null,
       "grid_auto_flow": null,
       "grid_auto_rows": null,
       "grid_column": null,
       "grid_gap": null,
       "grid_row": null,
       "grid_template_areas": null,
       "grid_template_columns": null,
       "grid_template_rows": null,
       "height": null,
       "justify_content": null,
       "justify_items": null,
       "left": null,
       "margin": null,
       "max_height": null,
       "max_width": null,
       "min_height": null,
       "min_width": null,
       "object_fit": null,
       "object_position": null,
       "order": null,
       "overflow": null,
       "overflow_x": null,
       "overflow_y": null,
       "padding": null,
       "right": null,
       "top": null,
       "visibility": null,
       "width": null
      }
     },
     "41bab4a772f84d58a5c9fe0448665b1a": {
      "model_module": "@jupyter-widgets/base",
      "model_module_version": "1.2.0",
      "model_name": "LayoutModel",
      "state": {
       "_model_module": "@jupyter-widgets/base",
       "_model_module_version": "1.2.0",
       "_model_name": "LayoutModel",
       "_view_count": null,
       "_view_module": "@jupyter-widgets/base",
       "_view_module_version": "1.2.0",
       "_view_name": "LayoutView",
       "align_content": null,
       "align_items": null,
       "align_self": null,
       "border": null,
       "bottom": null,
       "display": null,
       "flex": null,
       "flex_flow": null,
       "grid_area": null,
       "grid_auto_columns": null,
       "grid_auto_flow": null,
       "grid_auto_rows": null,
       "grid_column": null,
       "grid_gap": null,
       "grid_row": null,
       "grid_template_areas": null,
       "grid_template_columns": null,
       "grid_template_rows": null,
       "height": null,
       "justify_content": null,
       "justify_items": null,
       "left": null,
       "margin": null,
       "max_height": null,
       "max_width": null,
       "min_height": null,
       "min_width": null,
       "object_fit": null,
       "object_position": null,
       "order": null,
       "overflow": null,
       "overflow_x": null,
       "overflow_y": null,
       "padding": null,
       "right": null,
       "top": null,
       "visibility": null,
       "width": null
      }
     },
     "4d4ed6e81ef64d72a73732bcc04ec507": {
      "model_module": "@jupyter-widgets/controls",
      "model_module_version": "1.5.0",
      "model_name": "HBoxModel",
      "state": {
       "_dom_classes": [],
       "_model_module": "@jupyter-widgets/controls",
       "_model_module_version": "1.5.0",
       "_model_name": "HBoxModel",
       "_view_count": null,
       "_view_module": "@jupyter-widgets/controls",
       "_view_module_version": "1.5.0",
       "_view_name": "HBoxView",
       "box_style": "",
       "children": [
        "IPY_MODEL_8c6bdfa0a4ed443caf5882474c109cca",
        "IPY_MODEL_36f0631f4685449084533ed6e1f78683",
        "IPY_MODEL_29ab9d55897e4b1baf46ee8ab27f3a1e"
       ],
       "layout": "IPY_MODEL_41bab4a772f84d58a5c9fe0448665b1a"
      }
     },
     "505d1a8310e641029818273ca3f6d890": {
      "model_module": "@jupyter-widgets/base",
      "model_module_version": "1.2.0",
      "model_name": "LayoutModel",
      "state": {
       "_model_module": "@jupyter-widgets/base",
       "_model_module_version": "1.2.0",
       "_model_name": "LayoutModel",
       "_view_count": null,
       "_view_module": "@jupyter-widgets/base",
       "_view_module_version": "1.2.0",
       "_view_name": "LayoutView",
       "align_content": null,
       "align_items": null,
       "align_self": null,
       "border": null,
       "bottom": null,
       "display": null,
       "flex": null,
       "flex_flow": null,
       "grid_area": null,
       "grid_auto_columns": null,
       "grid_auto_flow": null,
       "grid_auto_rows": null,
       "grid_column": null,
       "grid_gap": null,
       "grid_row": null,
       "grid_template_areas": null,
       "grid_template_columns": null,
       "grid_template_rows": null,
       "height": null,
       "justify_content": null,
       "justify_items": null,
       "left": null,
       "margin": null,
       "max_height": null,
       "max_width": null,
       "min_height": null,
       "min_width": null,
       "object_fit": null,
       "object_position": null,
       "order": null,
       "overflow": null,
       "overflow_x": null,
       "overflow_y": null,
       "padding": null,
       "right": null,
       "top": null,
       "visibility": null,
       "width": null
      }
     },
     "51a0656ea0ae44d4be441be5b31690c3": {
      "model_module": "@jupyter-widgets/controls",
      "model_module_version": "1.5.0",
      "model_name": "HTMLModel",
      "state": {
       "_dom_classes": [],
       "_model_module": "@jupyter-widgets/controls",
       "_model_module_version": "1.5.0",
       "_model_name": "HTMLModel",
       "_view_count": null,
       "_view_module": "@jupyter-widgets/controls",
       "_view_module_version": "1.5.0",
       "_view_name": "HTMLView",
       "description": "",
       "description_tooltip": null,
       "layout": "IPY_MODEL_29f96e7ae397466586712e10d677a50f",
       "placeholder": "​",
       "style": "IPY_MODEL_cb658dac08df4922a1f3f14176bfdc57",
       "value": "Downloading: 100%"
      }
     },
     "5bcc9166aad34e1780abcfb2cfdf082f": {
      "model_module": "@jupyter-widgets/base",
      "model_module_version": "1.2.0",
      "model_name": "LayoutModel",
      "state": {
       "_model_module": "@jupyter-widgets/base",
       "_model_module_version": "1.2.0",
       "_model_name": "LayoutModel",
       "_view_count": null,
       "_view_module": "@jupyter-widgets/base",
       "_view_module_version": "1.2.0",
       "_view_name": "LayoutView",
       "align_content": null,
       "align_items": null,
       "align_self": null,
       "border": null,
       "bottom": null,
       "display": null,
       "flex": null,
       "flex_flow": null,
       "grid_area": null,
       "grid_auto_columns": null,
       "grid_auto_flow": null,
       "grid_auto_rows": null,
       "grid_column": null,
       "grid_gap": null,
       "grid_row": null,
       "grid_template_areas": null,
       "grid_template_columns": null,
       "grid_template_rows": null,
       "height": null,
       "justify_content": null,
       "justify_items": null,
       "left": null,
       "margin": null,
       "max_height": null,
       "max_width": null,
       "min_height": null,
       "min_width": null,
       "object_fit": null,
       "object_position": null,
       "order": null,
       "overflow": null,
       "overflow_x": null,
       "overflow_y": null,
       "padding": null,
       "right": null,
       "top": null,
       "visibility": null,
       "width": null
      }
     },
     "6074104e5ac0477d9d20971c5aa21fe8": {
      "model_module": "@jupyter-widgets/controls",
      "model_module_version": "1.5.0",
      "model_name": "DescriptionStyleModel",
      "state": {
       "_model_module": "@jupyter-widgets/controls",
       "_model_module_version": "1.5.0",
       "_model_name": "DescriptionStyleModel",
       "_view_count": null,
       "_view_module": "@jupyter-widgets/base",
       "_view_module_version": "1.2.0",
       "_view_name": "StyleView",
       "description_width": ""
      }
     },
     "69a062d1ac4e4465b1ee08d3bf84fd5b": {
      "model_module": "@jupyter-widgets/base",
      "model_module_version": "1.2.0",
      "model_name": "LayoutModel",
      "state": {
       "_model_module": "@jupyter-widgets/base",
       "_model_module_version": "1.2.0",
       "_model_name": "LayoutModel",
       "_view_count": null,
       "_view_module": "@jupyter-widgets/base",
       "_view_module_version": "1.2.0",
       "_view_name": "LayoutView",
       "align_content": null,
       "align_items": null,
       "align_self": null,
       "border": null,
       "bottom": null,
       "display": null,
       "flex": null,
       "flex_flow": null,
       "grid_area": null,
       "grid_auto_columns": null,
       "grid_auto_flow": null,
       "grid_auto_rows": null,
       "grid_column": null,
       "grid_gap": null,
       "grid_row": null,
       "grid_template_areas": null,
       "grid_template_columns": null,
       "grid_template_rows": null,
       "height": null,
       "justify_content": null,
       "justify_items": null,
       "left": null,
       "margin": null,
       "max_height": null,
       "max_width": null,
       "min_height": null,
       "min_width": null,
       "object_fit": null,
       "object_position": null,
       "order": null,
       "overflow": null,
       "overflow_x": null,
       "overflow_y": null,
       "padding": null,
       "right": null,
       "top": null,
       "visibility": null,
       "width": null
      }
     },
     "6c86b850d89a4d1987393cb6541ce4ef": {
      "model_module": "@jupyter-widgets/base",
      "model_module_version": "1.2.0",
      "model_name": "LayoutModel",
      "state": {
       "_model_module": "@jupyter-widgets/base",
       "_model_module_version": "1.2.0",
       "_model_name": "LayoutModel",
       "_view_count": null,
       "_view_module": "@jupyter-widgets/base",
       "_view_module_version": "1.2.0",
       "_view_name": "LayoutView",
       "align_content": null,
       "align_items": null,
       "align_self": null,
       "border": null,
       "bottom": null,
       "display": null,
       "flex": null,
       "flex_flow": null,
       "grid_area": null,
       "grid_auto_columns": null,
       "grid_auto_flow": null,
       "grid_auto_rows": null,
       "grid_column": null,
       "grid_gap": null,
       "grid_row": null,
       "grid_template_areas": null,
       "grid_template_columns": null,
       "grid_template_rows": null,
       "height": null,
       "justify_content": null,
       "justify_items": null,
       "left": null,
       "margin": null,
       "max_height": null,
       "max_width": null,
       "min_height": null,
       "min_width": null,
       "object_fit": null,
       "object_position": null,
       "order": null,
       "overflow": null,
       "overflow_x": null,
       "overflow_y": null,
       "padding": null,
       "right": null,
       "top": null,
       "visibility": null,
       "width": null
      }
     },
     "72f99183c1a6476ba8a2a466a706eca8": {
      "model_module": "@jupyter-widgets/base",
      "model_module_version": "1.2.0",
      "model_name": "LayoutModel",
      "state": {
       "_model_module": "@jupyter-widgets/base",
       "_model_module_version": "1.2.0",
       "_model_name": "LayoutModel",
       "_view_count": null,
       "_view_module": "@jupyter-widgets/base",
       "_view_module_version": "1.2.0",
       "_view_name": "LayoutView",
       "align_content": null,
       "align_items": null,
       "align_self": null,
       "border": null,
       "bottom": null,
       "display": null,
       "flex": null,
       "flex_flow": null,
       "grid_area": null,
       "grid_auto_columns": null,
       "grid_auto_flow": null,
       "grid_auto_rows": null,
       "grid_column": null,
       "grid_gap": null,
       "grid_row": null,
       "grid_template_areas": null,
       "grid_template_columns": null,
       "grid_template_rows": null,
       "height": null,
       "justify_content": null,
       "justify_items": null,
       "left": null,
       "margin": null,
       "max_height": null,
       "max_width": null,
       "min_height": null,
       "min_width": null,
       "object_fit": null,
       "object_position": null,
       "order": null,
       "overflow": null,
       "overflow_x": null,
       "overflow_y": null,
       "padding": null,
       "right": null,
       "top": null,
       "visibility": null,
       "width": null
      }
     },
     "875a8bf1698d406ab3c8d1fdfb168baf": {
      "model_module": "@jupyter-widgets/base",
      "model_module_version": "1.2.0",
      "model_name": "LayoutModel",
      "state": {
       "_model_module": "@jupyter-widgets/base",
       "_model_module_version": "1.2.0",
       "_model_name": "LayoutModel",
       "_view_count": null,
       "_view_module": "@jupyter-widgets/base",
       "_view_module_version": "1.2.0",
       "_view_name": "LayoutView",
       "align_content": null,
       "align_items": null,
       "align_self": null,
       "border": null,
       "bottom": null,
       "display": null,
       "flex": null,
       "flex_flow": null,
       "grid_area": null,
       "grid_auto_columns": null,
       "grid_auto_flow": null,
       "grid_auto_rows": null,
       "grid_column": null,
       "grid_gap": null,
       "grid_row": null,
       "grid_template_areas": null,
       "grid_template_columns": null,
       "grid_template_rows": null,
       "height": null,
       "justify_content": null,
       "justify_items": null,
       "left": null,
       "margin": null,
       "max_height": null,
       "max_width": null,
       "min_height": null,
       "min_width": null,
       "object_fit": null,
       "object_position": null,
       "order": null,
       "overflow": null,
       "overflow_x": null,
       "overflow_y": null,
       "padding": null,
       "right": null,
       "top": null,
       "visibility": null,
       "width": null
      }
     },
     "8c6bdfa0a4ed443caf5882474c109cca": {
      "model_module": "@jupyter-widgets/controls",
      "model_module_version": "1.5.0",
      "model_name": "HTMLModel",
      "state": {
       "_dom_classes": [],
       "_model_module": "@jupyter-widgets/controls",
       "_model_module_version": "1.5.0",
       "_model_name": "HTMLModel",
       "_view_count": null,
       "_view_module": "@jupyter-widgets/controls",
       "_view_module_version": "1.5.0",
       "_view_name": "HTMLView",
       "description": "",
       "description_tooltip": null,
       "layout": "IPY_MODEL_05ff796cc2544d3ca0d30714691fc84a",
       "placeholder": "​",
       "style": "IPY_MODEL_f7c727a6228c427092b69775367cf895",
       "value": "Downloading: 100%"
      }
     },
     "9078ce6b6bc242d7939af067e6883056": {
      "model_module": "@jupyter-widgets/controls",
      "model_module_version": "1.5.0",
      "model_name": "DescriptionStyleModel",
      "state": {
       "_model_module": "@jupyter-widgets/controls",
       "_model_module_version": "1.5.0",
       "_model_name": "DescriptionStyleModel",
       "_view_count": null,
       "_view_module": "@jupyter-widgets/base",
       "_view_module_version": "1.2.0",
       "_view_name": "StyleView",
       "description_width": ""
      }
     },
     "939f188c77164bf7a6d1a3c8f5971354": {
      "model_module": "@jupyter-widgets/controls",
      "model_module_version": "1.5.0",
      "model_name": "HTMLModel",
      "state": {
       "_dom_classes": [],
       "_model_module": "@jupyter-widgets/controls",
       "_model_module_version": "1.5.0",
       "_model_name": "HTMLModel",
       "_view_count": null,
       "_view_module": "@jupyter-widgets/controls",
       "_view_module_version": "1.5.0",
       "_view_name": "HTMLView",
       "description": "",
       "description_tooltip": null,
       "layout": "IPY_MODEL_875a8bf1698d406ab3c8d1fdfb168baf",
       "placeholder": "​",
       "style": "IPY_MODEL_f6b78f5972684d67853e58c7f61b80f2",
       "value": " 60.0/60.0 [00:00&lt;00:00, 1.80kB/s]"
      }
     },
     "9517042f76514cd6af1f4d9ee276b00f": {
      "model_module": "@jupyter-widgets/base",
      "model_module_version": "1.2.0",
      "model_name": "LayoutModel",
      "state": {
       "_model_module": "@jupyter-widgets/base",
       "_model_module_version": "1.2.0",
       "_model_name": "LayoutModel",
       "_view_count": null,
       "_view_module": "@jupyter-widgets/base",
       "_view_module_version": "1.2.0",
       "_view_name": "LayoutView",
       "align_content": null,
       "align_items": null,
       "align_self": null,
       "border": null,
       "bottom": null,
       "display": null,
       "flex": null,
       "flex_flow": null,
       "grid_area": null,
       "grid_auto_columns": null,
       "grid_auto_flow": null,
       "grid_auto_rows": null,
       "grid_column": null,
       "grid_gap": null,
       "grid_row": null,
       "grid_template_areas": null,
       "grid_template_columns": null,
       "grid_template_rows": null,
       "height": null,
       "justify_content": null,
       "justify_items": null,
       "left": null,
       "margin": null,
       "max_height": null,
       "max_width": null,
       "min_height": null,
       "min_width": null,
       "object_fit": null,
       "object_position": null,
       "order": null,
       "overflow": null,
       "overflow_x": null,
       "overflow_y": null,
       "padding": null,
       "right": null,
       "top": null,
       "visibility": null,
       "width": null
      }
     },
     "95926eb74184461f89ee1d168aaa2fdd": {
      "model_module": "@jupyter-widgets/base",
      "model_module_version": "1.2.0",
      "model_name": "LayoutModel",
      "state": {
       "_model_module": "@jupyter-widgets/base",
       "_model_module_version": "1.2.0",
       "_model_name": "LayoutModel",
       "_view_count": null,
       "_view_module": "@jupyter-widgets/base",
       "_view_module_version": "1.2.0",
       "_view_name": "LayoutView",
       "align_content": null,
       "align_items": null,
       "align_self": null,
       "border": null,
       "bottom": null,
       "display": null,
       "flex": null,
       "flex_flow": null,
       "grid_area": null,
       "grid_auto_columns": null,
       "grid_auto_flow": null,
       "grid_auto_rows": null,
       "grid_column": null,
       "grid_gap": null,
       "grid_row": null,
       "grid_template_areas": null,
       "grid_template_columns": null,
       "grid_template_rows": null,
       "height": null,
       "justify_content": null,
       "justify_items": null,
       "left": null,
       "margin": null,
       "max_height": null,
       "max_width": null,
       "min_height": null,
       "min_width": null,
       "object_fit": null,
       "object_position": null,
       "order": null,
       "overflow": null,
       "overflow_x": null,
       "overflow_y": null,
       "padding": null,
       "right": null,
       "top": null,
       "visibility": null,
       "width": null
      }
     },
     "9f47b78275ef4859ad61fc0a41879851": {
      "model_module": "@jupyter-widgets/controls",
      "model_module_version": "1.5.0",
      "model_name": "DescriptionStyleModel",
      "state": {
       "_model_module": "@jupyter-widgets/controls",
       "_model_module_version": "1.5.0",
       "_model_name": "DescriptionStyleModel",
       "_view_count": null,
       "_view_module": "@jupyter-widgets/base",
       "_view_module_version": "1.2.0",
       "_view_name": "StyleView",
       "description_width": ""
      }
     },
     "a0d4469a11a74e70a591135228ca083b": {
      "model_module": "@jupyter-widgets/controls",
      "model_module_version": "1.5.0",
      "model_name": "DescriptionStyleModel",
      "state": {
       "_model_module": "@jupyter-widgets/controls",
       "_model_module_version": "1.5.0",
       "_model_name": "DescriptionStyleModel",
       "_view_count": null,
       "_view_module": "@jupyter-widgets/base",
       "_view_module_version": "1.2.0",
       "_view_name": "StyleView",
       "description_width": ""
      }
     },
     "a5abbd65abc144768a7ade4af082f460": {
      "model_module": "@jupyter-widgets/controls",
      "model_module_version": "1.5.0",
      "model_name": "ProgressStyleModel",
      "state": {
       "_model_module": "@jupyter-widgets/controls",
       "_model_module_version": "1.5.0",
       "_model_name": "ProgressStyleModel",
       "_view_count": null,
       "_view_module": "@jupyter-widgets/base",
       "_view_module_version": "1.2.0",
       "_view_name": "StyleView",
       "bar_color": null,
       "description_width": ""
      }
     },
     "a5de11e084ee4d2db85173ea090c51b8": {
      "model_module": "@jupyter-widgets/controls",
      "model_module_version": "1.5.0",
      "model_name": "ProgressStyleModel",
      "state": {
       "_model_module": "@jupyter-widgets/controls",
       "_model_module_version": "1.5.0",
       "_model_name": "ProgressStyleModel",
       "_view_count": null,
       "_view_module": "@jupyter-widgets/base",
       "_view_module_version": "1.2.0",
       "_view_name": "StyleView",
       "bar_color": null,
       "description_width": ""
      }
     },
     "bb8fbbc7b7484dcea3c029081886bfea": {
      "model_module": "@jupyter-widgets/controls",
      "model_module_version": "1.5.0",
      "model_name": "HTMLModel",
      "state": {
       "_dom_classes": [],
       "_model_module": "@jupyter-widgets/controls",
       "_model_module_version": "1.5.0",
       "_model_name": "HTMLModel",
       "_view_count": null,
       "_view_module": "@jupyter-widgets/controls",
       "_view_module_version": "1.5.0",
       "_view_name": "HTMLView",
       "description": "",
       "description_tooltip": null,
       "layout": "IPY_MODEL_6c86b850d89a4d1987393cb6541ce4ef",
       "placeholder": "​",
       "style": "IPY_MODEL_f5067cc6134e46ccad651829c6553e72",
       "value": "Downloading: 100%"
      }
     },
     "c8410697c67c4272a4a17a791092f6a7": {
      "model_module": "@jupyter-widgets/base",
      "model_module_version": "1.2.0",
      "model_name": "LayoutModel",
      "state": {
       "_model_module": "@jupyter-widgets/base",
       "_model_module_version": "1.2.0",
       "_model_name": "LayoutModel",
       "_view_count": null,
       "_view_module": "@jupyter-widgets/base",
       "_view_module_version": "1.2.0",
       "_view_name": "LayoutView",
       "align_content": null,
       "align_items": null,
       "align_self": null,
       "border": null,
       "bottom": null,
       "display": null,
       "flex": null,
       "flex_flow": null,
       "grid_area": null,
       "grid_auto_columns": null,
       "grid_auto_flow": null,
       "grid_auto_rows": null,
       "grid_column": null,
       "grid_gap": null,
       "grid_row": null,
       "grid_template_areas": null,
       "grid_template_columns": null,
       "grid_template_rows": null,
       "height": null,
       "justify_content": null,
       "justify_items": null,
       "left": null,
       "margin": null,
       "max_height": null,
       "max_width": null,
       "min_height": null,
       "min_width": null,
       "object_fit": null,
       "object_position": null,
       "order": null,
       "overflow": null,
       "overflow_x": null,
       "overflow_y": null,
       "padding": null,
       "right": null,
       "top": null,
       "visibility": null,
       "width": null
      }
     },
     "cb1eb238865944d98c9595099f491bb9": {
      "model_module": "@jupyter-widgets/base",
      "model_module_version": "1.2.0",
      "model_name": "LayoutModel",
      "state": {
       "_model_module": "@jupyter-widgets/base",
       "_model_module_version": "1.2.0",
       "_model_name": "LayoutModel",
       "_view_count": null,
       "_view_module": "@jupyter-widgets/base",
       "_view_module_version": "1.2.0",
       "_view_name": "LayoutView",
       "align_content": null,
       "align_items": null,
       "align_self": null,
       "border": null,
       "bottom": null,
       "display": null,
       "flex": null,
       "flex_flow": null,
       "grid_area": null,
       "grid_auto_columns": null,
       "grid_auto_flow": null,
       "grid_auto_rows": null,
       "grid_column": null,
       "grid_gap": null,
       "grid_row": null,
       "grid_template_areas": null,
       "grid_template_columns": null,
       "grid_template_rows": null,
       "height": null,
       "justify_content": null,
       "justify_items": null,
       "left": null,
       "margin": null,
       "max_height": null,
       "max_width": null,
       "min_height": null,
       "min_width": null,
       "object_fit": null,
       "object_position": null,
       "order": null,
       "overflow": null,
       "overflow_x": null,
       "overflow_y": null,
       "padding": null,
       "right": null,
       "top": null,
       "visibility": null,
       "width": null
      }
     },
     "cb658dac08df4922a1f3f14176bfdc57": {
      "model_module": "@jupyter-widgets/controls",
      "model_module_version": "1.5.0",
      "model_name": "DescriptionStyleModel",
      "state": {
       "_model_module": "@jupyter-widgets/controls",
       "_model_module_version": "1.5.0",
       "_model_name": "DescriptionStyleModel",
       "_view_count": null,
       "_view_module": "@jupyter-widgets/base",
       "_view_module_version": "1.2.0",
       "_view_name": "StyleView",
       "description_width": ""
      }
     },
     "cdedb5ff9fed4175a8e8eb00e9f2f9e4": {
      "model_module": "@jupyter-widgets/controls",
      "model_module_version": "1.5.0",
      "model_name": "HBoxModel",
      "state": {
       "_dom_classes": [],
       "_model_module": "@jupyter-widgets/controls",
       "_model_module_version": "1.5.0",
       "_model_name": "HBoxModel",
       "_view_count": null,
       "_view_module": "@jupyter-widgets/controls",
       "_view_module_version": "1.5.0",
       "_view_name": "HBoxView",
       "box_style": "",
       "children": [
        "IPY_MODEL_51a0656ea0ae44d4be441be5b31690c3",
        "IPY_MODEL_0ff0facd9f4a4feab86e3f4710c3d730",
        "IPY_MODEL_25a92ad0acbc468986f7d8a91f45c02c"
       ],
       "layout": "IPY_MODEL_c8410697c67c4272a4a17a791092f6a7"
      }
     },
     "da48ee3569a54191a35f8779757e2e33": {
      "model_module": "@jupyter-widgets/controls",
      "model_module_version": "1.5.0",
      "model_name": "FloatProgressModel",
      "state": {
       "_dom_classes": [],
       "_model_module": "@jupyter-widgets/controls",
       "_model_module_version": "1.5.0",
       "_model_name": "FloatProgressModel",
       "_view_count": null,
       "_view_module": "@jupyter-widgets/controls",
       "_view_module_version": "1.5.0",
       "_view_name": "ProgressView",
       "bar_style": "success",
       "description": "",
       "description_tooltip": null,
       "layout": "IPY_MODEL_1825d3c951194ee7b8488674a563e888",
       "max": 251003.0,
       "min": 0.0,
       "orientation": "horizontal",
       "style": "IPY_MODEL_a5de11e084ee4d2db85173ea090c51b8",
       "value": 251003.0
      }
     },
     "e5f5fe698ac443f594792e7e6cfacebc": {
      "model_module": "@jupyter-widgets/controls",
      "model_module_version": "1.5.0",
      "model_name": "ProgressStyleModel",
      "state": {
       "_model_module": "@jupyter-widgets/controls",
       "_model_module_version": "1.5.0",
       "_model_name": "ProgressStyleModel",
       "_view_count": null,
       "_view_module": "@jupyter-widgets/base",
       "_view_module_version": "1.2.0",
       "_view_name": "StyleView",
       "bar_color": null,
       "description_width": ""
      }
     },
     "f392ba388a3d4841929a9dda91dedb53": {
      "model_module": "@jupyter-widgets/controls",
      "model_module_version": "1.5.0",
      "model_name": "HTMLModel",
      "state": {
       "_dom_classes": [],
       "_model_module": "@jupyter-widgets/controls",
       "_model_module_version": "1.5.0",
       "_model_name": "HTMLModel",
       "_view_count": null,
       "_view_module": "@jupyter-widgets/controls",
       "_view_module_version": "1.5.0",
       "_view_name": "HTMLView",
       "description": "",
       "description_tooltip": null,
       "layout": "IPY_MODEL_505d1a8310e641029818273ca3f6d890",
       "placeholder": "​",
       "style": "IPY_MODEL_6074104e5ac0477d9d20971c5aa21fe8",
       "value": "Downloading: 100%"
      }
     },
     "f5067cc6134e46ccad651829c6553e72": {
      "model_module": "@jupyter-widgets/controls",
      "model_module_version": "1.5.0",
      "model_name": "DescriptionStyleModel",
      "state": {
       "_model_module": "@jupyter-widgets/controls",
       "_model_module_version": "1.5.0",
       "_model_name": "DescriptionStyleModel",
       "_view_count": null,
       "_view_module": "@jupyter-widgets/base",
       "_view_module_version": "1.2.0",
       "_view_name": "StyleView",
       "description_width": ""
      }
     },
     "f5e0102a08d74a64a0dfb7cf2f38f5d7": {
      "model_module": "@jupyter-widgets/controls",
      "model_module_version": "1.5.0",
      "model_name": "HBoxModel",
      "state": {
       "_dom_classes": [],
       "_model_module": "@jupyter-widgets/controls",
       "_model_module_version": "1.5.0",
       "_model_name": "HBoxModel",
       "_view_count": null,
       "_view_module": "@jupyter-widgets/controls",
       "_view_module_version": "1.5.0",
       "_view_name": "HBoxView",
       "box_style": "",
       "children": [
        "IPY_MODEL_bb8fbbc7b7484dcea3c029081886bfea",
        "IPY_MODEL_da48ee3569a54191a35f8779757e2e33",
        "IPY_MODEL_0e701b313cb44e4a97034909de956986"
       ],
       "layout": "IPY_MODEL_9517042f76514cd6af1f4d9ee276b00f"
      }
     },
     "f6b78f5972684d67853e58c7f61b80f2": {
      "model_module": "@jupyter-widgets/controls",
      "model_module_version": "1.5.0",
      "model_name": "DescriptionStyleModel",
      "state": {
       "_model_module": "@jupyter-widgets/controls",
       "_model_module_version": "1.5.0",
       "_model_name": "DescriptionStyleModel",
       "_view_count": null,
       "_view_module": "@jupyter-widgets/base",
       "_view_module_version": "1.2.0",
       "_view_name": "StyleView",
       "description_width": ""
      }
     },
     "f7c727a6228c427092b69775367cf895": {
      "model_module": "@jupyter-widgets/controls",
      "model_module_version": "1.5.0",
      "model_name": "DescriptionStyleModel",
      "state": {
       "_model_module": "@jupyter-widgets/controls",
       "_model_module_version": "1.5.0",
       "_model_name": "DescriptionStyleModel",
       "_view_count": null,
       "_view_module": "@jupyter-widgets/base",
       "_view_module_version": "1.2.0",
       "_view_name": "StyleView",
       "description_width": ""
      }
     }
    },
    "version_major": 2,
    "version_minor": 0
   }
  }
 },
 "nbformat": 4,
 "nbformat_minor": 5
}
